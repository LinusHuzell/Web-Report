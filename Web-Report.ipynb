{
 "cells": [
  {
   "cell_type": "markdown",
   "metadata": {},
   "source": [
    "# A simple report of Web Page visitors"
   ]
  },
  {
   "cell_type": "markdown",
   "metadata": {},
   "source": [
    "The task of this notebook is to create a simple report from a made up \"log-file\" of visitors of a website.\n",
    "The input-file ('log.txt') contains a list of page visits with a timestamp for the time the page was accessed, an url for which page that was visited and a user id to uniquely identify the visitor. \n",
    "\n",
    "The purpose is to process this data and create a report that for each page displays the number of page views and unique visitors that page had for a given time range."
   ]
  },
  {
   "cell_type": "markdown",
   "metadata": {},
   "source": [
    "## Step 1\n",
    "\n",
    "The first step is to read the file and import the content. The timestamp is used to create a DateTime object for future use in the search. Each line from the file is then stored as a dictionary in a list."
   ]
  },
  {
   "cell_type": "code",
   "execution_count": null,
   "metadata": {},
   "outputs": [],
   "source": [
    "import datetime\n",
    "date_time_format = '%Y-%m-%d %H:%M:%S%Z'\n",
    "log_list = []\n",
    "dict_list = []\n",
    "dict_keys = ['timestamp', 'url', 'userid', 'datetime']\n",
    "\n",
    "with open('log.txt', 'r') as log:\n",
    "    \n",
    "    next(log)    \n",
    "    for line in log:\n",
    "        log_list.append(line.split('|')[1:4])\n",
    "    \n",
    "    for line in log_list:\n",
    "        length_of_line = len(line)\n",
    "        \n",
    "        for item in range(length_of_line):\n",
    "            line[item] = line[item].strip()\n",
    "    \n",
    "    for line in log_list:\n",
    "        current_timestamp = line[0]\n",
    "        date_time_obj = datetime.datetime.strptime(current_timestamp, date_time_format)\n",
    "        line.append(date_time_obj)\n",
    "        dict_list.append(dict(zip(dict_keys, line)))\n",
    "                         \n",
    "                         \n",
    "print(dict_list)"
   ]
  },
  {
   "cell_type": "markdown",
   "metadata": {},
   "source": [
    "## Step 2\n",
    "The second step is to create the variables that the web master will use to enter what time range to search for.\n",
    "(Change the values to vary the search)"
   ]
  },
  {
   "cell_type": "code",
   "execution_count": null,
   "metadata": {},
   "outputs": [],
   "source": [
    "time_zone = 'UTC'\n",
    "search_start_date = '2013-09-01'\n",
    "search_start_time = '09:00:00'  \n",
    "search_end_date = '2013-09-01' ##optional\n",
    "search_end_time = '10:59:59' "
   ]
  },
  {
   "cell_type": "markdown",
   "metadata": {},
   "source": [
    "The variables are then used to create DateTime objects to be used for comparison in the search."
   ]
  },
  {
   "cell_type": "code",
   "execution_count": null,
   "metadata": {},
   "outputs": [],
   "source": [
    "if search_end_date == '' or search_end_date is None:\n",
    "    search_end_date = search_start_date\n",
    "    \n",
    "search_start = datetime.datetime.strptime(\"{} {}{}\".format(search_start_date, search_start_time, time_zone), date_time_format)\n",
    "search_end = datetime.datetime.strptime(\"{} {}{}\".format(search_end_date, search_end_time, time_zone), date_time_format)\n",
    "\n",
    "print('The time range chosen is: {} - {}'.format(search_start, search_end.time() if search_start.date() == search_end.date() else search_end))\n",
    "\n"
   ]
  },
  {
   "cell_type": "markdown",
   "metadata": {},
   "source": [
    "## Step 3\n",
    "Then the actual search is performed and all objects that maches the given time range is stored in a new list."
   ]
  },
  {
   "cell_type": "code",
   "execution_count": null,
   "metadata": {},
   "outputs": [],
   "source": [
    "search_results = []\n",
    "print('The objects in the original list that matches the search:\\n')\n",
    "for dct in dict_list:\n",
    "    checker = None\n",
    "    if dct['datetime'] >= search_start and dct['datetime'] <= search_end:\n",
    "        checker = True\n",
    "        del dct['datetime']\n",
    "        search_results.append(dct)\n",
    "    print(checker)\n",
    "\n",
    "print('\\nThe new list with the results of the search: \\n\\n{}\\n'.format(search_results))\n",
    "    "
   ]
  },
  {
   "cell_type": "markdown",
   "metadata": {},
   "source": [
    "All the unique pages that was visited during the given time range is then extracted and stored in a list."
   ]
  },
  {
   "cell_type": "code",
   "execution_count": null,
   "metadata": {},
   "outputs": [],
   "source": [
    "pages_visited = []\n",
    "\n",
    "for result in search_results:\n",
    "    if result['url'] not in pages_visited:\n",
    "        pages_visited.append(result['url'])\n",
    "\n",
    "print('The unique pages that was visited during the given time range:\\n\\n {}'.format(pages_visited))"
   ]
  },
  {
   "cell_type": "markdown",
   "metadata": {},
   "source": [
    "## Step 4\n",
    "\n",
    "Then the number of visits and unique visitors is calculated and is stored for each page as dictionaries in a new list that will be used to present the results."
   ]
  },
  {
   "cell_type": "code",
   "execution_count": null,
   "metadata": {},
   "outputs": [],
   "source": [
    "final_report = []\n",
    "\n",
    "for page in pages_visited:\n",
    "    page_views = 0\n",
    "    number_of_visitors = 0\n",
    "    visitors = []\n",
    "    for result in search_results:\n",
    "        if result['url'] == page:\n",
    "            page_views += 1\n",
    "            if result['userid'] not in visitors:\n",
    "                visitors.append(result['userid'])\n",
    "    number_of_visitors = len(visitors)\n",
    "    final_report.append(dict({'page': page, 'page views': page_views, 'visitors': number_of_visitors}))\n",
    "\n",
    "    print(final_report)"
   ]
  },
  {
   "cell_type": "markdown",
   "metadata": {},
   "source": [
    "Finally the report is presnted in a data frame. The data frame could then be used to export the report into a CSV-file."
   ]
  },
  {
   "cell_type": "code",
   "execution_count": null,
   "metadata": {},
   "outputs": [],
   "source": [
    "import pandas as pd\n",
    "\n",
    "df = pd.DataFrame(data=final_report)\n",
    "df.rename(columns={'page': 'URL', 'page views': 'Page Views', 'visitors': 'Visitors'}, inplace=True)\n",
    "\n",
    "df"
   ]
  }
 ],
 "metadata": {
  "kernelspec": {
   "display_name": "Python 3",
   "language": "python",
   "name": "python3"
  },
  "language_info": {
   "codemirror_mode": {
    "name": "ipython",
    "version": 3
   },
   "file_extension": ".py",
   "mimetype": "text/x-python",
   "name": "python",
   "nbconvert_exporter": "python",
   "pygments_lexer": "ipython3",
   "version": "3.7.0"
  }
 },
 "nbformat": 4,
 "nbformat_minor": 2
}
